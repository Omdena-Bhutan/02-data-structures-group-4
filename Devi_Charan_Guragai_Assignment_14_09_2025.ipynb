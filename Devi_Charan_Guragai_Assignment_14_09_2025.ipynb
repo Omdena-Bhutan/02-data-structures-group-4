{
  "nbformat": 4,
  "nbformat_minor": 0,
  "metadata": {
    "colab": {
      "provenance": [],
      "authorship_tag": "ABX9TyNmjfCEENe5nGmQbjVVwWMI",
      "include_colab_link": true
    },
    "kernelspec": {
      "name": "python3",
      "display_name": "Python 3"
    },
    "language_info": {
      "name": "python"
    }
  },
  "cells": [
    {
      "cell_type": "markdown",
      "metadata": {
        "id": "view-in-github",
        "colab_type": "text"
      },
      "source": [
        "<a href=\"https://colab.research.google.com/github/Omdena-Bhutan/02-data-structures-group-4/blob/Group-4-Devi-Charan-Guragai/Devi_Charan_Guragai_Assignment_14_09_2025.ipynb\" target=\"_parent\"><img src=\"https://colab.research.google.com/assets/colab-badge.svg\" alt=\"Open In Colab\"/></a>"
      ]
    },
    {
      "cell_type": "markdown",
      "source": [
        "Assignment 1\n",
        "\n",
        "You have a cinema you are operation giving tickets based on age.\n",
        "\n",
        "Children(below 12 years) pay 300\n",
        "\n",
        "Teenager(12 to 17) pay 500\n",
        "\n",
        "Adults(18 to 59) pay 800\n",
        "\n",
        "Seniors(60+) pay 400\n",
        "\n",
        "write a python program that will ask\n",
        "\n",
        "1. Ask the user to enter the age\n",
        "2. Uses an if statement to decide the ticket price\n",
        "3. print \"Your ticket price is AMT:X\"\n",
        "where X is the correct price\n"
      ],
      "metadata": {
        "id": "_8fNFzhKKMO3"
      }
    },
    {
      "cell_type": "code",
      "source": [
        "# Cinema Ticket Price Program\n",
        "\n",
        "# Step 1: Ask the user to enter the age\n",
        "age = int(input(\"Enter user's age(years)\"))\n",
        "\n",
        "# step 2: Decide ticket price using if/elif/else\n",
        "if age < 12:\n",
        "  ticket_price = 300\n",
        "elif age >= 12 and age <= 17:\n",
        "  ticket_price = 500\n",
        "elif age >= 18 and age <= 59:\n",
        "  ticket_price = 800\n",
        "else:\n",
        "  ticket_price = 400\n",
        "\n",
        "# step 3: print the result\n",
        "print(f\"Your ticket price is AMT: {ticket_price}\")"
      ],
      "metadata": {
        "colab": {
          "base_uri": "https://localhost:8080/"
        },
        "id": "QUsQUYAbM5zI",
        "outputId": "03d5c787-8f8a-43a3-efc0-adb9a3bf1784"
      },
      "execution_count": null,
      "outputs": [
        {
          "output_type": "stream",
          "name": "stdout",
          "text": [
            "Enter user's age(years)90\n",
            "Your ticket price is AMT: 400\n"
          ]
        }
      ]
    },
    {
      "cell_type": "code",
      "source": [
        "# Cinema Ticket Price Program\n",
        "\n",
        "# Step 1: Ask the user to enter age\n",
        "age = int(input(\"Enter user's age (years): \"))\n",
        "\n",
        "# Step 2: Decide ticket price using if/elif/else\n",
        "if age < 12:\n",
        "  ticket_price = 300\n",
        "elif age <= 17:\n",
        "  ticket_price = 500\n",
        "elif age >= 18 and age <= 59:\n",
        "  ticket_price = 800\n",
        "else: # age >= 60\n",
        "  ticket_price = 400\n",
        "\n",
        "# step 3: Print the result\n",
        "print(f\"Your ticket price is AMT: {ticket_price}\")"
      ],
      "metadata": {
        "colab": {
          "base_uri": "https://localhost:8080/"
        },
        "id": "bSXWadslcEA8",
        "outputId": "0546b047-1632-41c7-8042-64521bb4f8b9"
      },
      "execution_count": null,
      "outputs": [
        {
          "output_type": "stream",
          "name": "stdout",
          "text": [
            "Enter user's age (years): 59\n",
            "Your ticket price is AMT: 800\n"
          ]
        }
      ]
    },
    {
      "cell_type": "code",
      "source": [
        "# Cinema Ticket Price Program\n",
        "\n",
        "# Step 1: Ask the user to enter the age\n",
        "age = int(input(\"Enter user's age(years): \"))\n",
        "\n",
        "# Step 2: Decide ticket price using if/elif/else\n",
        "if age < 12:\n",
        "  ticket_price = 300\n",
        "elif age <= 17:\n",
        "  ticket_price = 500\n",
        "elif age >= 18 and age <= 59:\n",
        "  ticket_price = 800\n",
        "else: # age >= 60\n",
        "  ticket_price = 400\n",
        "\n",
        "# Step 3: Print the result\n",
        "print(f\"Your ticket price is AMT: {ticket_price}\")"
      ],
      "metadata": {
        "colab": {
          "base_uri": "https://localhost:8080/"
        },
        "id": "i0TI_k35fqCC",
        "outputId": "0e6845cd-1baf-42a0-c5a3-e55ee564c2ef"
      },
      "execution_count": null,
      "outputs": [
        {
          "output_type": "stream",
          "name": "stdout",
          "text": [
            "Enter user's age(years): 10\n",
            "Your ticket price is AMT: 300\n"
          ]
        }
      ]
    },
    {
      "cell_type": "markdown",
      "source": [
        "Assignment 2:\n",
        "\n",
        "Write a python program that;\n",
        "Picks a secret number (e.g 7)\n",
        "\n",
        "Ask the user to guess correctly (Using the while loop)\n",
        "\n",
        "Print \"Congratulations(Tashi Delek), you guess it right\" when the answer is correct.\n",
        "\n"
      ],
      "metadata": {
        "id": "6ltE-Hv0qEoo"
      }
    },
    {
      "cell_type": "code",
      "source": [
        "# The secret number that the user needs to guess\n",
        "secret_number = 7\n",
        "\n",
        "# start with a guess that is not correct\n",
        "guess = 0\n",
        "\n",
        "print(\"guess the secret number (between 1 and 10.\")\n",
        "\n",
        "# Keep asking for a guess until the user is correct\n",
        "while guess != secret_number:\n",
        "  # Ask the user to guess and convert thier answer to a number\n",
        "  guess = int(input(\"Enter your guess: \"))\n",
        "\n",
        "  if guess < secret_number:\n",
        "    print(\"try again.\")\n",
        "  elif guess > secret_number:\n",
        "    print(\"try again.\")\n",
        "\n",
        "# The code only reaches this line once the user guesses correctly\n",
        "print(\"Congratulations(Trashi Delek), you guessed it right!\")"
      ],
      "metadata": {
        "colab": {
          "base_uri": "https://localhost:8080/"
        },
        "id": "hLCV981xq_Ob",
        "outputId": "7194456d-8ba3-472a-86b1-184eed648b26"
      },
      "execution_count": null,
      "outputs": [
        {
          "output_type": "stream",
          "name": "stdout",
          "text": [
            "guess the secret number (between 1 and 10.\n",
            "Enter your guess: 7\n",
            "Congratulations(Trashi Delek), you guessed it right!\n"
          ]
        }
      ]
    },
    {
      "cell_type": "markdown",
      "source": [
        "Assignment 3 (Research)\n",
        "\n",
        "Research and practice the following about functions:\n",
        "\n",
        "How to write keyword arguments\n",
        "Variable number of arguments\n",
        "*args\n",
        "**kwargs\n",
        "\n",
        "How to write keyword arguments\n",
        "\n",
        "you can specify the name of the argument when you call the function.\n",
        "\n",
        "This makes the code easier to read because it's clear what each value is for, and you don't have to remember the order of the parameters.\n"
      ],
      "metadata": {
        "id": "ddpruNe4x2qs"
      }
    },
    {
      "cell_type": "code",
      "source": [
        "# keyword arguments\n",
        "def describe_student(name, age, gender, country):\n",
        "   print(f\"Name: {name}\")\n",
        "   print(f\"Age: {age}\")\n",
        "   print(f\"Gender: {gender}\")\n",
        "   print(f\"Country: {country}\")\n",
        "\n",
        "describe_student(country=\"Bhutan\", gender=\"male\", age=\"40\", name=\"Devi Charan Guragai\")"
      ],
      "metadata": {
        "colab": {
          "base_uri": "https://localhost:8080/"
        },
        "id": "IJzjPi2B0GzM",
        "outputId": "470c54ce-09b2-4589-aa1e-b204840e33d3"
      },
      "execution_count": null,
      "outputs": [
        {
          "output_type": "stream",
          "name": "stdout",
          "text": [
            "Name: Devi Charan Guragai\n",
            "Age: 40\n",
            "Gender: male\n",
            "Country: Bhutan\n"
          ]
        }
      ]
    },
    {
      "cell_type": "markdown",
      "source": [
        "* args\n",
        "\n",
        "This code defines a function that can accept any number of arguments, which are then collected into a tuple.\n",
        "\n",
        "-Let a function take any number of extra arguments.\n",
        "The function collects all these arguments into a tuple, which I can then loop through or eccess it.\n",
        "This is useful when you come across  many different inputs.\n",
        "\n"
      ],
      "metadata": {
        "id": "KLHD_wOo4BKS"
      }
    },
    {
      "cell_type": "code",
      "source": [
        "def make_shopping_list(store, *items):\n",
        "   print(f\"Shopping at: {store}\")\n",
        "   print(\"Items to buy:\")\n",
        "   for item in items:\n",
        "     print(f\"- {item}\")\n",
        "\n",
        "make_shopping_list(\"Grocery Store\", \"Milk\", \"Eggs\", \"Bread\", \"Cheese\")"
      ],
      "metadata": {
        "colab": {
          "base_uri": "https://localhost:8080/"
        },
        "id": "hAnMWmZD5uJq",
        "outputId": "728c3ee9-e43e-49bc-d283-d7b98d997854"
      },
      "execution_count": null,
      "outputs": [
        {
          "output_type": "stream",
          "name": "stdout",
          "text": [
            "Shopping at: Grocery Store\n",
            "Items to buy:\n",
            "- Milk\n",
            "- Eggs\n",
            "- Bread\n",
            "- Cheese\n"
          ]
        }
      ]
    },
    {
      "cell_type": "markdown",
      "source": [
        "**kwargs\n",
        "\n",
        "This code defines a function that an unknown number of keyword (named) arguments, which are stored in a dictionary.\n",
        "\n",
        "Let a function accept any number of extra keyword arguments, which it collects into a dictionary.\n",
        "\n",
        "This is perfect for when you have optional or different named inputs."
      ],
      "metadata": {
        "id": "H5YkiJDt8Lf2"
      }
    },
    {
      "cell_type": "code",
      "source": [
        "def print_user_info(**info):\n",
        "  \"\"\"print user information from a variable number of keyword arguments.\"\"\"\n",
        "  print(\"user profile:\")\n",
        "\n",
        "  # The 'info' variable is a dictionary containing all keyword arguments\n",
        "  for key, value in info.items():\n",
        "    print(f\"{key}: {value}\")\n",
        "\n",
        "print_user_info(name=\"Devi Charan\", age=\"40\", gender=\"male\", country=\"Bhutan\")"
      ],
      "metadata": {
        "colab": {
          "base_uri": "https://localhost:8080/"
        },
        "id": "yUR3Xngh9K7t",
        "outputId": "23e386c7-2d52-4b58-8f3d-3dde1a273c94"
      },
      "execution_count": null,
      "outputs": [
        {
          "output_type": "stream",
          "name": "stdout",
          "text": [
            "user profile:\n",
            "name: Devi Charan\n",
            "age: 40\n",
            "gender: male\n",
            "country: Bhutan\n"
          ]
        }
      ]
    },
    {
      "cell_type": "markdown",
      "source": [
        "Assignment 4 (Function)\n",
        "\n",
        "Create a calculator\n",
        "\n",
        "write a python program that:\n",
        "\n",
        "Defines a function called calculate grade(marks) that:\n",
        "\n",
        "take marks (0-100) as input\n",
        "\n",
        "Returns the grade based on this scale\n",
        "\n",
        "90-100 - A\n",
        "\n",
        "80-89 - B\n",
        "\n",
        "70-79  - C\n",
        "\n",
        "60-69 - D\n",
        "\n",
        "Below 60 - F\n",
        "\n",
        "Ask the user to enter their marks\n",
        "\n",
        "Call the function and print \"Your grade is X\"\n",
        "\n"
      ],
      "metadata": {
        "id": "Zl-FwOpuAC8d"
      }
    },
    {
      "cell_type": "code",
      "source": [
        "def calculate_grade(marks):\n",
        "  \"\"\"Take marks and returns the grade based on this scale:\"\"\"\n",
        "  if marks >=90:\n",
        "    return \"A\"\n",
        "  elif marks >= 80:\n",
        "    return \"B\"\n",
        "  elif marks >= 70:\n",
        "    return \"C\"\n",
        "  elif marks >= 60:\n",
        "    return \"D\"\n",
        "  else:\n",
        "    return \"F\""
      ],
      "metadata": {
        "id": "cKh_XVK7julh"
      },
      "execution_count": null,
      "outputs": []
    },
    {
      "cell_type": "code",
      "source": [
        "# Ask the user for thier marks\n",
        "user_marks = int(input(\"Enter your marks (0-100): \"))\n",
        "\n",
        "# Get the grade from the function\n",
        "grade = calculate_grade(user_marks)\n",
        "\n",
        "# Print the final result\n",
        "print(f\"Your grade is {grade}\")"
      ],
      "metadata": {
        "colab": {
          "base_uri": "https://localhost:8080/"
        },
        "id": "tS_riT6NllTa",
        "outputId": "4e4932aa-e84f-474a-da21-c88312432814"
      },
      "execution_count": null,
      "outputs": [
        {
          "output_type": "stream",
          "name": "stdout",
          "text": [
            "Enter your marks (0-100): 40\n",
            "Your grade is F\n"
          ]
        }
      ]
    }
  ]
}