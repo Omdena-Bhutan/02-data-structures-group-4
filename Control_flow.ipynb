{
  "nbformat": 4,
  "nbformat_minor": 0,
  "metadata": {
    "colab": {
      "provenance": [],
      "authorship_tag": "ABX9TyPMzQX5IF539zkqzYkVlkh2",
      "include_colab_link": true
    },
    "kernelspec": {
      "name": "python3",
      "display_name": "Python 3"
    },
    "language_info": {
      "name": "python"
    }
  },
  "cells": [
    {
      "cell_type": "markdown",
      "metadata": {
        "id": "view-in-github",
        "colab_type": "text"
      },
      "source": [
        "<a href=\"https://colab.research.google.com/github/Omdena-Bhutan/02-data-structures-group-4/blob/main/Control_flow.ipynb\" target=\"_parent\"><img src=\"https://colab.research.google.com/assets/colab-badge.svg\" alt=\"Open In Colab\"/></a>"
      ]
    },
    {
      "cell_type": "code",
      "execution_count": null,
      "metadata": {
        "id": "UPPQbVVm29jd"
      },
      "outputs": [],
      "source": []
    },
    {
      "cell_type": "markdown",
      "source": [
        "#Coniditional statement\n",
        "# if statement"
      ],
      "metadata": {
        "id": "WBfdlbj93GMy"
      }
    },
    {
      "cell_type": "code",
      "source": [
        "x=10\n",
        "if x > 10:\n",
        "  print(\"x is greater tahn 5\")"
      ],
      "metadata": {
        "id": "dq2tE3vj3NMs"
      },
      "execution_count": 3,
      "outputs": []
    },
    {
      "cell_type": "markdown",
      "source": [
        "# you have a cinema you are operating\n",
        "childern below 12 years pay 300\n",
        "Teenager 12-17 pay 500\n",
        "Adults (18-590 pay 800\n",
        "Seniors (60+) pay 400\n"
      ],
      "metadata": {
        "id": "CxCxx_IN4H1w"
      }
    },
    {
      "cell_type": "markdown",
      "source": [
        "# if-Else statement"
      ],
      "metadata": {
        "id": "B14tv8d75NDQ"
      }
    },
    {
      "cell_type": "code",
      "source": [
        "age = 18\n",
        "if age <= 18:\n",
        "  print(\"You are an adult\")\n",
        "else:\n",
        "  print(\"You are a minor\")"
      ],
      "metadata": {
        "colab": {
          "base_uri": "https://localhost:8080/"
        },
        "id": "lQetjukE5Qz3",
        "outputId": "f33d0350-1614-4375-e1a3-c83771418455"
      },
      "execution_count": 7,
      "outputs": [
        {
          "output_type": "stream",
          "name": "stdout",
          "text": [
            "You are an adult\n"
          ]
        }
      ]
    },
    {
      "cell_type": "markdown",
      "source": [
        "#if-elif-else"
      ],
      "metadata": {
        "id": "-pam0ALP59lW"
      }
    },
    {
      "cell_type": "code",
      "source": [
        "marks = 60\n",
        "if marks >= 90:\n",
        "  print(\"Grade A\")\n",
        "elif marks >= 70:\n",
        "  print(\"Grade B\")\n",
        "elif marks >= 50:\n",
        "  print(\"Grade C\")\n",
        "else:\n",
        "  print(\"Fail\")"
      ],
      "metadata": {
        "colab": {
          "base_uri": "https://localhost:8080/"
        },
        "id": "wEp0bbpx6DKZ",
        "outputId": "1821865f-7b58-4e62-e41f-628f3b8b47b9"
      },
      "execution_count": 10,
      "outputs": [
        {
          "output_type": "stream",
          "name": "stdout",
          "text": [
            "Grade C\n"
          ]
        }
      ]
    },
    {
      "cell_type": "markdown",
      "source": [
        "#Loops\n",
        "-Used to iterate over a sequence\n",
        "(list, string, tuple,dictonary...)\n",
        "\n",
        "-for loop\n",
        "-Range\n",
        "-While Loop"
      ],
      "metadata": {
        "id": "fromPO_S6sTm"
      }
    },
    {
      "cell_type": "code",
      "source": [
        "# For loop\n",
        "list_of_Numbers = [1,2,3,4,5]\n",
        "for numbers in list_of_Numbers:\n",
        "  print(numbers)"
      ],
      "metadata": {
        "colab": {
          "base_uri": "https://localhost:8080/"
        },
        "id": "rNm4eWzQ5gJq",
        "outputId": "7029aa61-514c-4afe-876d-22ad07de0993"
      },
      "execution_count": 11,
      "outputs": [
        {
          "output_type": "stream",
          "name": "stdout",
          "text": [
            "1\n",
            "2\n",
            "3\n",
            "4\n",
            "5\n"
          ]
        }
      ]
    },
    {
      "cell_type": "code",
      "source": [
        "list_of_Numbers = [1,2,3,4,5]\n",
        "for numbers in list_of_Numbers:\n",
        "  print(numbers)* 4"
      ],
      "metadata": {
        "colab": {
          "base_uri": "https://localhost:8080/",
          "height": 193
        },
        "id": "k4EwsFPR7spB",
        "outputId": "4f621456-4584-4efd-81f2-ebc31868fa09"
      },
      "execution_count": 12,
      "outputs": [
        {
          "output_type": "stream",
          "name": "stdout",
          "text": [
            "1\n"
          ]
        },
        {
          "output_type": "error",
          "ename": "TypeError",
          "evalue": "unsupported operand type(s) for *: 'NoneType' and 'int'",
          "traceback": [
            "\u001b[0;31m---------------------------------------------------------------------------\u001b[0m",
            "\u001b[0;31mTypeError\u001b[0m                                 Traceback (most recent call last)",
            "\u001b[0;32m/tmp/ipython-input-2804635059.py\u001b[0m in \u001b[0;36m<cell line: 0>\u001b[0;34m()\u001b[0m\n\u001b[1;32m      1\u001b[0m \u001b[0mlist_of_Numbers\u001b[0m \u001b[0;34m=\u001b[0m \u001b[0;34m[\u001b[0m\u001b[0;36m1\u001b[0m\u001b[0;34m,\u001b[0m\u001b[0;36m2\u001b[0m\u001b[0;34m,\u001b[0m\u001b[0;36m3\u001b[0m\u001b[0;34m,\u001b[0m\u001b[0;36m4\u001b[0m\u001b[0;34m,\u001b[0m\u001b[0;36m5\u001b[0m\u001b[0;34m]\u001b[0m\u001b[0;34m\u001b[0m\u001b[0;34m\u001b[0m\u001b[0m\n\u001b[1;32m      2\u001b[0m \u001b[0;32mfor\u001b[0m \u001b[0mnumbers\u001b[0m \u001b[0;32min\u001b[0m \u001b[0mlist_of_Numbers\u001b[0m\u001b[0;34m:\u001b[0m\u001b[0;34m\u001b[0m\u001b[0;34m\u001b[0m\u001b[0m\n\u001b[0;32m----> 3\u001b[0;31m   \u001b[0mprint\u001b[0m\u001b[0;34m(\u001b[0m\u001b[0mnumbers\u001b[0m\u001b[0;34m)\u001b[0m\u001b[0;34m*\u001b[0m \u001b[0;36m4\u001b[0m\u001b[0;34m\u001b[0m\u001b[0;34m\u001b[0m\u001b[0m\n\u001b[0m",
            "\u001b[0;31mTypeError\u001b[0m: unsupported operand type(s) for *: 'NoneType' and 'int'"
          ]
        }
      ]
    },
    {
      "cell_type": "code",
      "source": [
        "list of fruit = [\"apple\", \"banana\", \"cherry\"]\n",
        "for fruit in list of fruit:\n",
        "  print(fruit)"
      ],
      "metadata": {
        "colab": {
          "base_uri": "https://localhost:8080/",
          "height": 106
        },
        "id": "Dkq7SGMz7059",
        "outputId": "112b2563-382e-4fdf-d653-11913da9ecaa"
      },
      "execution_count": 15,
      "outputs": [
        {
          "output_type": "error",
          "ename": "SyntaxError",
          "evalue": "invalid syntax (ipython-input-1495527669.py, line 1)",
          "traceback": [
            "\u001b[0;36m  File \u001b[0;32m\"/tmp/ipython-input-1495527669.py\"\u001b[0;36m, line \u001b[0;32m1\u001b[0m\n\u001b[0;31m    list of fruit = [\"apple\", \"banana\", \"cherry\"]\u001b[0m\n\u001b[0m         ^\u001b[0m\n\u001b[0;31mSyntaxError\u001b[0m\u001b[0;31m:\u001b[0m invalid syntax\n"
          ]
        }
      ]
    },
    {
      "cell_type": "markdown",
      "source": [
        "Range"
      ],
      "metadata": {
        "id": "txh49oE_8KVI"
      }
    },
    {
      "cell_type": "code",
      "source": [
        "for i in range(5):\n",
        "  print(i)"
      ],
      "metadata": {
        "colab": {
          "base_uri": "https://localhost:8080/"
        },
        "id": "ILZT0qyL8MUo",
        "outputId": "231c0eb4-1640-4ae5-acf5-1ead76de3a33"
      },
      "execution_count": 16,
      "outputs": [
        {
          "output_type": "stream",
          "name": "stdout",
          "text": [
            "0\n",
            "1\n",
            "2\n",
            "3\n",
            "4\n"
          ]
        }
      ]
    },
    {
      "cell_type": "code",
      "source": [
        "# range of even numbers from 0-10\n",
        "for i in range (2,10,2)\n",
        "print(x)"
      ],
      "metadata": {
        "colab": {
          "base_uri": "https://localhost:8080/",
          "height": 106
        },
        "id": "Y8MJx8YW78YP",
        "outputId": "eabf8b4c-46cd-4921-e446-57130eadef9e"
      },
      "execution_count": 17,
      "outputs": [
        {
          "output_type": "error",
          "ename": "SyntaxError",
          "evalue": "expected ':' (ipython-input-2762992584.py, line 2)",
          "traceback": [
            "\u001b[0;36m  File \u001b[0;32m\"/tmp/ipython-input-2762992584.py\"\u001b[0;36m, line \u001b[0;32m2\u001b[0m\n\u001b[0;31m    for i in range (2,10,2)\u001b[0m\n\u001b[0m                           ^\u001b[0m\n\u001b[0;31mSyntaxError\u001b[0m\u001b[0;31m:\u001b[0m expected ':'\n"
          ]
        }
      ]
    },
    {
      "cell_type": "code",
      "source": [],
      "metadata": {
        "id": "WY-Ec5_t8kB9"
      },
      "execution_count": null,
      "outputs": []
    },
    {
      "cell_type": "markdown",
      "source": [
        "Create a program inpython that willas someone"
      ],
      "metadata": {
        "id": "jHxR6cBm8yiO"
      }
    },
    {
      "cell_type": "markdown",
      "source": [
        "# While loop\n",
        "- Executes as long as the condition is True"
      ],
      "metadata": {
        "id": "6qp8u4BP9Eh8"
      }
    },
    {
      "cell_type": "code",
      "source": [
        "\n",
        "X= 2\n",
        "while X <= 7:\n",
        "  print(\"Number: \", X)\n",
        "  X += 1"
      ],
      "metadata": {
        "colab": {
          "base_uri": "https://localhost:8080/"
        },
        "id": "9BnkxzRO-e-o",
        "outputId": "9153e219-e2f2-4bac-eb3e-ac3274f7d0d5"
      },
      "execution_count": 22,
      "outputs": [
        {
          "output_type": "stream",
          "name": "stdout",
          "text": [
            "Number:  2\n",
            "Number:  3\n",
            "Number:  4\n",
            "Number:  5\n",
            "Number:  6\n",
            "Number:  7\n"
          ]
        }
      ]
    },
    {
      "cell_type": "code",
      "source": [
        "X"
      ],
      "metadata": {
        "colab": {
          "base_uri": "https://localhost:8080/"
        },
        "id": "iv3AP6Ah-4V8",
        "outputId": "e7de5ea6-ad7b-4df3-d1f6-8b3a06e2e395"
      },
      "execution_count": 23,
      "outputs": [
        {
          "output_type": "execute_result",
          "data": {
            "text/plain": [
              "8"
            ]
          },
          "metadata": {},
          "execution_count": 23
        }
      ]
    },
    {
      "cell_type": "code",
      "source": [
        "# Assingment"
      ],
      "metadata": {
        "id": "OSEwrPN6_XvH"
      },
      "execution_count": null,
      "outputs": []
    },
    {
      "cell_type": "markdown",
      "source": [],
      "metadata": {
        "id": "yCMF5rUIAC2d"
      }
    },
    {
      "cell_type": "markdown",
      "source": [],
      "metadata": {
        "id": "LZphfrqvAJhP"
      }
    },
    {
      "cell_type": "code",
      "source": [
        "# Break-Used to exit the loop immediately\n",
        "for i in range (9)\n",
        "  if i == 5:\n",
        "    break\n",
        "  print(i)"
      ],
      "metadata": {
        "colab": {
          "base_uri": "https://localhost:8080/",
          "height": 106
        },
        "id": "urkbEFC0ALJo",
        "outputId": "49ba537d-45be-4c91-a22c-1d17d80bc48e"
      },
      "execution_count": 24,
      "outputs": [
        {
          "output_type": "error",
          "ename": "SyntaxError",
          "evalue": "expected ':' (ipython-input-1542770000.py, line 2)",
          "traceback": [
            "\u001b[0;36m  File \u001b[0;32m\"/tmp/ipython-input-1542770000.py\"\u001b[0;36m, line \u001b[0;32m2\u001b[0m\n\u001b[0;31m    for i in range (9)\u001b[0m\n\u001b[0m                      ^\u001b[0m\n\u001b[0;31mSyntaxError\u001b[0m\u001b[0;31m:\u001b[0m expected ':'\n"
          ]
        }
      ]
    },
    {
      "cell_type": "code",
      "source": [
        "# Continue-Used to skip to the next iteration\n",
        "for i in range (8):\n",
        "  if i == 3:\n",
        "    continue\n",
        "  print(i)"
      ],
      "metadata": {
        "colab": {
          "base_uri": "https://localhost:8080/"
        },
        "id": "ApjirkUpAVpj",
        "outputId": "01179415-c2e3-49bc-d97d-44306392638d"
      },
      "execution_count": 26,
      "outputs": [
        {
          "output_type": "stream",
          "name": "stdout",
          "text": [
            "0\n",
            "1\n",
            "2\n",
            "4\n",
            "5\n",
            "6\n",
            "7\n"
          ]
        }
      ]
    },
    {
      "cell_type": "code",
      "source": [
        "if i in range (10)\n",
        "if i % 2 == 0:\n",
        "    continue\n",
        "    print(i)"
      ],
      "metadata": {
        "colab": {
          "base_uri": "https://localhost:8080/",
          "height": 106
        },
        "id": "VmFZCic8AycX",
        "outputId": "8c433f06-250b-4b07-b7c4-c500703b6ac9"
      },
      "execution_count": 27,
      "outputs": [
        {
          "output_type": "error",
          "ename": "SyntaxError",
          "evalue": "expected ':' (ipython-input-1858240602.py, line 1)",
          "traceback": [
            "\u001b[0;36m  File \u001b[0;32m\"/tmp/ipython-input-1858240602.py\"\u001b[0;36m, line \u001b[0;32m1\u001b[0m\n\u001b[0;31m    if i in range (10)\u001b[0m\n\u001b[0m                      ^\u001b[0m\n\u001b[0;31mSyntaxError\u001b[0m\u001b[0;31m:\u001b[0m expected ':'\n"
          ]
        }
      ]
    },
    {
      "cell_type": "code",
      "source": [
        "# Pass - placeholder\n",
        "for i in range (5):\n",
        "  pass"
      ],
      "metadata": {
        "id": "5r5JUOKmBRA7"
      },
      "execution_count": 28,
      "outputs": []
    },
    {
      "cell_type": "markdown",
      "source": [
        "## **Functions**"
      ],
      "metadata": {
        "id": "IjdKRCHTC0Yk"
      }
    },
    {
      "cell_type": "code",
      "source": [],
      "metadata": {
        "id": "7JVqNRRSBKGo"
      },
      "execution_count": null,
      "outputs": []
    }
  ]
}