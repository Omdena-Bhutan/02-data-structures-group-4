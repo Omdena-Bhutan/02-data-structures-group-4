{
  "nbformat": 4,
  "nbformat_minor": 0,
  "metadata": {
    "colab": {
      "provenance": [],
      "authorship_tag": "ABX9TyPdmqnR+xyfZQBhqvBJriQN",
      "include_colab_link": true
    },
    "kernelspec": {
      "name": "python3",
      "display_name": "Python 3"
    },
    "language_info": {
      "name": "python"
    }
  },
  "cells": [
    {
      "cell_type": "markdown",
      "metadata": {
        "id": "view-in-github",
        "colab_type": "text"
      },
      "source": [
        "<a href=\"https://colab.research.google.com/github/Omdena-Bhutan/02-data-structures-group-4/blob/main/Functions.ipynb\" target=\"_parent\"><img src=\"https://colab.research.google.com/assets/colab-badge.svg\" alt=\"Open In Colab\"/></a>"
      ]
    },
    {
      "cell_type": "code",
      "execution_count": 2,
      "metadata": {
        "id": "Qf3hxYC5ERXE"
      },
      "outputs": [],
      "source": [
        "# Function to greet someone\n",
        "def greet():\n",
        "  print(\"Hello, welcome to python\")"
      ]
    },
    {
      "cell_type": "code",
      "source": [
        "greet()"
      ],
      "metadata": {
        "colab": {
          "base_uri": "https://localhost:8080/"
        },
        "id": "dJ2Oal7LEiWS",
        "outputId": "4ff08d8a-734c-4632-c140-2839f7d2dec1"
      },
      "execution_count": 3,
      "outputs": [
        {
          "output_type": "stream",
          "name": "stdout",
          "text": [
            "Hello, welcome to python\n"
          ]
        }
      ]
    },
    {
      "cell_type": "code",
      "source": [
        "# Create a function to add two numbers\n",
        "def add(a, b):\n",
        "  print(a+b)"
      ],
      "metadata": {
        "id": "v3nZwh6BEovv"
      },
      "execution_count": 4,
      "outputs": []
    },
    {
      "cell_type": "code",
      "source": [
        "add(2,5)"
      ],
      "metadata": {
        "colab": {
          "base_uri": "https://localhost:8080/"
        },
        "id": "0E7UytvTE5jM",
        "outputId": "8ec8f1cd-8f9a-4d38-e9a4-f829d8924de0"
      },
      "execution_count": 5,
      "outputs": [
        {
          "output_type": "stream",
          "name": "stdout",
          "text": [
            "7\n"
          ]
        }
      ]
    },
    {
      "cell_type": "code",
      "source": [
        "add(4,7)"
      ],
      "metadata": {
        "colab": {
          "base_uri": "https://localhost:8080/"
        },
        "id": "vMV6K3-4E89M",
        "outputId": "5a79b950-eb36-45a4-fc2a-7da5adcf1b05"
      },
      "execution_count": 6,
      "outputs": [
        {
          "output_type": "stream",
          "name": "stdout",
          "text": [
            "11\n"
          ]
        }
      ]
    },
    {
      "cell_type": "code",
      "source": [
        "# Defult paramenters\n",
        "def greet(name=\"Guest\"):\n",
        "  print(f\"Hello,{name}\")\n"
      ],
      "metadata": {
        "id": "52OidTSbFAYJ"
      },
      "execution_count": 7,
      "outputs": []
    },
    {
      "cell_type": "code",
      "source": [
        "greet(\"pradeep\")"
      ],
      "metadata": {
        "colab": {
          "base_uri": "https://localhost:8080/"
        },
        "id": "ZTS5t-r2Fl-_",
        "outputId": "4d549db9-d0f7-4b00-b9d2-793f3adb42f4"
      },
      "execution_count": 8,
      "outputs": [
        {
          "output_type": "stream",
          "name": "stdout",
          "text": [
            "Hello,pradeep\n"
          ]
        }
      ]
    },
    {
      "cell_type": "code",
      "source": [
        "greet()"
      ],
      "metadata": {
        "colab": {
          "base_uri": "https://localhost:8080/"
        },
        "id": "STSboDPrFr8e",
        "outputId": "d04b6a9e-e2b6-40f7-8301-16b663587b86"
      },
      "execution_count": 9,
      "outputs": [
        {
          "output_type": "stream",
          "name": "stdout",
          "text": [
            "Hello,Guest\n"
          ]
        }
      ]
    },
    {
      "cell_type": "markdown",
      "source": [
        "# Assingment research\n",
        "research and practice the following\n",
        "1. How to write key word  arguments\n",
        "2. VAriable number of arguments\n",
        " -*Aggs, **kwargs\n",
        ""
      ],
      "metadata": {
        "id": "O804s-1RF__E"
      }
    },
    {
      "cell_type": "code",
      "source": [
        "# Return values:\n",
        "def square (x):\n",
        "  return x * x\n"
      ],
      "metadata": {
        "id": "Z2RAYulRFvZC"
      },
      "execution_count": 10,
      "outputs": []
    },
    {
      "cell_type": "code",
      "source": [
        "result = square(5)\n",
        "print (result)"
      ],
      "metadata": {
        "colab": {
          "base_uri": "https://localhost:8080/"
        },
        "id": "EdlDxjFIHgey",
        "outputId": "ec5bf6c2-69ff-44ed-c8db-499c1a541bd6"
      },
      "execution_count": 11,
      "outputs": [
        {
          "output_type": "stream",
          "name": "stdout",
          "text": [
            "25\n"
          ]
        }
      ]
    },
    {
      "cell_type": "markdown",
      "source": [
        "Assingment on functions\n",
        "create a calculator\n",
        "write  python program that\n",
        "1. it defines functions called calculate _grade (marks)that :\n",
        "- takes marks (0-100) as input\n",
        "-return the gradebased the this scale\n",
        "- 90-100 - A\n",
        "- 80-89 - B\n",
        "- 70-79 - C\n",
        "- 60- 69 - D\n",
        "- Below 60 - F\n",
        "2.Ask the user to enter their marks\n",
        "3. call the function and print \" your grade is X\""
      ],
      "metadata": {
        "id": "ATgCWLmUH05y"
      }
    },
    {
      "cell_type": "code",
      "source": [
        "# Dogstring\n",
        "def add (a,b):\n",
        "  \"\"\"\n",
        "  This function takes in 2 numbers, a and b\n",
        "  then it performs the summation of the 2 numbers and returns their sum\n",
        "  \"\"\"\n",
        "  return a+b"
      ],
      "metadata": {
        "id": "JtgXHXksHo2n"
      },
      "execution_count": 12,
      "outputs": []
    },
    {
      "cell_type": "code",
      "source": [
        "# Global variable\n",
        "a = 20\n",
        "def add():\n",
        "  x =30 # Local variable\n",
        "  y = 20 # Local variable\n",
        "  return x + y + a"
      ],
      "metadata": {
        "id": "Gf1itp4oK5OF"
      },
      "execution_count": 15,
      "outputs": []
    },
    {
      "cell_type": "code",
      "source": [
        "a"
      ],
      "metadata": {
        "colab": {
          "base_uri": "https://localhost:8080/"
        },
        "id": "PLpyzbiLLS8V",
        "outputId": "e31716ab-a870-4e65-e1e5-b567619c91ca"
      },
      "execution_count": 14,
      "outputs": [
        {
          "output_type": "execute_result",
          "data": {
            "text/plain": [
              "20"
            ]
          },
          "metadata": {},
          "execution_count": 14
        }
      ]
    },
    {
      "cell_type": "code",
      "source": [
        "print (add)"
      ],
      "metadata": {
        "colab": {
          "base_uri": "https://localhost:8080/"
        },
        "id": "SdHFPfenLexE",
        "outputId": "590e0aab-21b8-43b0-f6b0-5f259508edf4"
      },
      "execution_count": 16,
      "outputs": [
        {
          "output_type": "stream",
          "name": "stdout",
          "text": [
            "<function add at 0x7adeff61f6a0>\n"
          ]
        }
      ]
    },
    {
      "cell_type": "code",
      "source": [
        "# lambda Functions\n",
        "multiply = lambda x: x * 3\n",
        "multiply(5)"
      ],
      "metadata": {
        "colab": {
          "base_uri": "https://localhost:8080/"
        },
        "id": "sMuCIcUoLTrr",
        "outputId": "7b5f95f1-6496-4fe7-95bc-4d9633ba3ae9"
      },
      "execution_count": 17,
      "outputs": [
        {
          "output_type": "execute_result",
          "data": {
            "text/plain": [
              "15"
            ]
          },
          "metadata": {},
          "execution_count": 17
        }
      ]
    },
    {
      "cell_type": "code",
      "source": [],
      "metadata": {
        "id": "gW6mpteuMgNr"
      },
      "execution_count": null,
      "outputs": []
    }
  ]
}