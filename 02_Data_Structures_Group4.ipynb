{
  "nbformat": 4,
  "nbformat_minor": 0,
  "metadata": {
    "colab": {
      "provenance": [],
      "authorship_tag": "ABX9TyPIx+FP7ju+93WjYDAGh+ma",
      "include_colab_link": true
    },
    "kernelspec": {
      "name": "python3",
      "display_name": "Python 3"
    },
    "language_info": {
      "name": "python"
    }
  },
  "cells": [
    {
      "cell_type": "markdown",
      "metadata": {
        "id": "view-in-github",
        "colab_type": "text"
      },
      "source": [
        "<a href=\"https://colab.research.google.com/github/Omdena-Bhutan/02-data-structures-group-4/blob/Group-4-Samten-sherab/02_Data_Structures_Group4.ipynb\" target=\"_parent\"><img src=\"https://colab.research.google.com/assets/colab-badge.svg\" alt=\"Open In Colab\"/></a>"
      ]
    },
    {
      "cell_type": "code",
      "source": [
        "character_profile = {\n",
        "    \"name\": \"Alistair the Brave\",\n",
        "    \"level\": 1,\n",
        "    \"health\": 100,\n",
        "    \"mana\": 50,\n",
        "    \"gold\": 50.75,\n",
        "    \"is_alive\": True,\n",
        "}\n",
        "\n",
        "\n",
        ""
      ],
      "metadata": {
        "id": "17l0wz_969_F"
      },
      "execution_count": 2,
      "outputs": []
    },
    {
      "cell_type": "code",
      "source": [],
      "metadata": {
        "id": "soMz5i13rahD"
      },
      "execution_count": 2,
      "outputs": []
    }
  ]
}