{
  "nbformat": 4,
  "nbformat_minor": 0,
  "metadata": {
    "colab": {
      "provenance": [],
      "authorship_tag": "ABX9TyOBZUZHC0/2buT9MiJFA/i4",
      "include_colab_link": true
    },
    "kernelspec": {
      "name": "python3",
      "display_name": "Python 3"
    },
    "language_info": {
      "name": "python"
    }
  },
  "cells": [
    {
      "cell_type": "markdown",
      "metadata": {
        "id": "view-in-github",
        "colab_type": "text"
      },
      "source": [
        "<a href=\"https://colab.research.google.com/github/Omdena-Bhutan/02-data-structures-group-4/blob/main/02_Data_Structures_Group4.ipynb\" target=\"_parent\"><img src=\"https://colab.research.google.com/assets/colab-badge.svg\" alt=\"Open In Colab\"/></a>"
      ]
    },
    {
      "cell_type": "code",
      "source": [
        "# Part 1: Character Profile (Dictionary)\n",
        "character_profile = {\n",
        "    \"name\": \"Alistair the Brave\",\n",
        "    \"level\": 1,\n",
        "    \"health\": 100,\n",
        "    \"mana\": 50,\n",
        "    \"gold\": 50.75,\n",
        "    \"is_alive\": True\n",
        "}\n",
        "\n",
        "print(\"Name:\", character_profile[\"name\"], \"| Level:\", character_profile[\"level\"])\n",
        "\n",
        "character_profile[\"health\"] = 85\n",
        "character_profile[\"experience\"] = 0\n",
        "print(character_profile)\n",
        "\n",
        "# Part 2: Inventory (List)\n",
        "inventory = [\"sword\", \"shield\", \"health potion\"]\n",
        "inventory.append(\"mana potion\")\n",
        "inventory.remove(\"shield\")\n",
        "\n",
        "for item in inventory:\n",
        "    print(item)\n",
        "\n",
        "# Part 3: Base Stats (Tuple)\n",
        "base_stats = (10, 8, 12)  # (strength, dexterity, intelligence)\n",
        "print(\"Base stats:\", base_stats)\n",
        "print(\"Intelligence:\", base_stats[2])\n",
        "\n",
        "# Part 4: Quest Log (Set)\n",
        "quest_log = {\"Defeat the Goblin King\", \"Find the Lost Amulet\"}\n",
        "quest_log.add(\"Deliver the Old Scroll\")\n",
        "quest_log.add(\"Defeat the Goblin King\")  # duplicate, will not be added\n",
        "quest_log.remove(\"Find the Lost Amulet\")\n",
        "\n",
        "print(\"Quests:\", quest_log)\n",
        "\n",
        "# Part 5: Character Sheet (Combine All)\n",
        "character_sheet = {\n",
        "    \"profile\": character_profile,\n",
        "    \"inventory\": inventory,\n",
        "    \"stats\": base_stats,\n",
        "    \"quests\": quest_log\n",
        "}\n",
        "\n",
        "print(character_sheet)\n",
        "\n",
        "\n"
      ],
      "metadata": {
        "id": "17l0wz_969_F",
        "colab": {
          "base_uri": "https://localhost:8080/"
        },
        "outputId": "2358553e-c932-4407-8ff4-31ed2316bab8"
      },
      "execution_count": 1,
      "outputs": [
        {
          "output_type": "stream",
          "name": "stdout",
          "text": [
            "Name: Alistair the Brave | Level: 1\n",
            "{'name': 'Alistair the Brave', 'level': 1, 'health': 85, 'mana': 50, 'gold': 50.75, 'is_alive': True, 'experience': 0}\n",
            "sword\n",
            "health potion\n",
            "mana potion\n",
            "Base stats: (10, 8, 12)\n",
            "Intelligence: 12\n",
            "Quests: {'Defeat the Goblin King', 'Deliver the Old Scroll'}\n",
            "{'profile': {'name': 'Alistair the Brave', 'level': 1, 'health': 85, 'mana': 50, 'gold': 50.75, 'is_alive': True, 'experience': 0}, 'inventory': ['sword', 'health potion', 'mana potion'], 'stats': (10, 8, 12), 'quests': {'Defeat the Goblin King', 'Deliver the Old Scroll'}}\n"
          ]
        }
      ]
    },
    {
      "cell_type": "code",
      "source": [],
      "metadata": {
        "id": "soMz5i13rahD"
      },
      "execution_count": null,
      "outputs": []
    }
  ]
}